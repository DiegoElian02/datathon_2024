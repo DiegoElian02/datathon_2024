{
 "cells": [
  {
   "cell_type": "code",
   "execution_count": 9,
   "metadata": {},
   "outputs": [],
   "source": [
    "import streamlit as st\n",
    "import pandas as pd\n",
    "import numpy as np\n",
    "import pydeck as pdk\n",
    "from sklearn.ensemble import RandomForestRegressor\n",
    "from sklearn.multioutput import MultiOutputRegressor\n",
    "import pickle\n",
    "from geopy.geocoders import Nominatim\n",
    "from geopy.exc import GeocoderTimedOut\n",
    "from geopy.exc import GeocoderServiceError, GeocoderTimedOut\n"
   ]
  },
  {
   "cell_type": "code",
   "execution_count": 3,
   "metadata": {},
   "outputs": [],
   "source": [
    "# Función para realizar prediccion de pasajeros\n",
    "def predict_passangers(data):    #aqui va el pickle\n",
    "    return np.random.randint(100, 200)\n",
    "\n",
    "with open(r'../models/preprocessor.pkl', 'rb') as f:\n",
    "    preprocessor = pickle.load(f)\n",
    "\n",
    "with open(r'../models/model.pkl', 'rb') as f:\n",
    "    model = pickle.load(f)\n",
    "\n",
    "def predict_products(data):\n",
    "    data_df = pd.DataFrame([data], columns=['DepartureStation', 'ArrivalStation', 'Destination_Type', 'Origin_Type', 'Capacity', \"Passengers\", 'STD_hour', 'STA_hour', 'STD_day_of_week', 'STA_day_of_week'])\n",
    "    data_transformed = preprocessor.transform(data_df)\n",
    "    prediction = model.predict(data_transformed)\n",
    "    return prediction "
   ]
  },
  {
   "cell_type": "code",
   "execution_count": 3,
   "metadata": {},
   "outputs": [],
   "source": [
    "departure_station = \"BM\"\n",
    "arrival_station = \"AV\"\n"
   ]
  },
  {
   "cell_type": "code",
   "execution_count": 1,
   "metadata": {},
   "outputs": [],
   "source": [
    "ciudades_por_codigo = {\n",
    "    'AT': 'Ciudad de Mexico', # México\n",
    "    'BM': 'Tijuana',       # México\n",
    "    'AW': 'Monterrey',         # México\n",
    "    'BA': 'Merida',       # México\n",
    "    'AJ': 'Tuxtla Gutierrez', # México\n",
    "    'AO': 'Cancun',      # México\n",
    "    'AK': 'Guadalajara', # México\n",
    "    'BH': 'Saltillo',       # México\n",
    "    'AY': 'Colima',         # México\n",
    "    'BN': 'Victoria',       # México\n",
    "    'AF': 'Durango',        # México\n",
    "    'AU': 'Guanajuato',     # México\n",
    "    'AD': 'Chilpancingo',   # México\n",
    "    'BD': 'Pachuca',        # México\n",
    "    'AR': 'Guadalajara',    # México\n",
    "    'BJ': 'Toluca',         # México\n",
    "    'BC': 'Morelia',        # México\n",
    "    'BP': 'Cuernavaca',     # México\n",
    "    'BG': 'Tepic',          # México\n",
    "    'BL': 'Tel-Aviv',      # México\n",
    "    'BQ': 'Oaxaca',         # México\n",
    "    'AL': 'Puebla',         # México\n",
    "    'AB': 'Queretaro',      # México\n",
    "    'BF': 'Chetumal',       # México\n",
    "    'BO': 'San Luis Potosi', # México\n",
    "    'AP': 'Culiacan',       # México\n",
    "    'BT': 'Hermosillo',     # México\n",
    "    'BE': 'Villahermosa',   # México\n",
    "    'BB': 'Ciudad Victoria', # México\n",
    "    'AZ': 'Tlaxcala',       # México\n",
    "    'AI': 'Xalapa',         # México\n",
    "    'AQ': 'Mérida',         # México\n",
    "    'BS': 'Los Angeles',    # EE.UU.\n",
    "    'AX': 'New York',       # EE.UU.\n",
    "    'AE': 'Chicago',        # EE.UU.\n",
    "    'AV': 'Houston',        # EE.UU.\n",
    "    'AM': 'Phoenix',        # EE.UU.\n",
    "    'AS': 'Philadelphia',   # EE.UU.\n",
    "    'BK': 'San Antonio',    # EE.UU.\n",
    "    'BI': 'San Diego',      # EE.UU.\n",
    "    'AC': 'Dallas'          # EE.UU.\n",
    "}"
   ]
  },
  {
   "cell_type": "code",
   "execution_count": 5,
   "metadata": {},
   "outputs": [
    {
     "data": {
      "text/plain": [
       "'Tijuana'"
      ]
     },
     "execution_count": 5,
     "metadata": {},
     "output_type": "execute_result"
    }
   ],
   "source": [
    "ciudades_por_codigo[departure_station]"
   ]
  },
  {
   "cell_type": "code",
   "execution_count": 6,
   "metadata": {},
   "outputs": [
    {
     "data": {
      "text/plain": [
       "'Houston'"
      ]
     },
     "execution_count": 6,
     "metadata": {},
     "output_type": "execute_result"
    }
   ],
   "source": [
    "ciudades_por_codigo[arrival_station]"
   ]
  },
  {
   "cell_type": "code",
   "execution_count": 11,
   "metadata": {},
   "outputs": [
    {
     "name": "stdout",
     "output_type": "stream",
     "text": [
      "Coordenadas de Tijuana : [-117.019529, 32.5317397]\n",
      "Coordenadas de Houston : [-95.3676974, 29.7589382]\n"
     ]
    }
   ],
   "source": [
    "from geopy.exc import GeocoderServiceError, GeocoderTimedOut\n",
    "\n",
    "def obtener_coordenadas(ciudad1, ciudad2):\n",
    "    geolocator = Nominatim(user_agent=\"NombreDeTuProyecto_Contacto@example.com\")\n",
    "\n",
    "    def geocode(ciudad):\n",
    "        try:\n",
    "            location = geolocator.geocode(ciudad)\n",
    "            if location:\n",
    "                return [location.longitude, location.latitude]\n",
    "            else:\n",
    "                return [None, None]\n",
    "        except GeocoderTimedOut:\n",
    "            print(\"La solicitud ha excedido el tiempo límite, intentando nuevamente...\")\n",
    "            return geocode(ciudad)  # Intenta nuevamente en caso de timeout\n",
    "        except GeocoderServiceError as e:\n",
    "            print(f\"Error de servicio de geocodificación: {e}\")\n",
    "            return [None, None]\n",
    "\n",
    "    coord_ciudad1 = geocode(ciudad1)\n",
    "    coord_ciudad2 = geocode(ciudad2)\n",
    "\n",
    "    return coord_ciudad1, coord_ciudad2\n",
    "\n",
    "coordenadas1, coordenadas2 = obtener_coordenadas(ciudades_por_codigo[departure_station], ciudades_por_codigo[arrival_station])\n",
    "print(\"Coordenadas de\", ciudades_por_codigo[departure_station], \":\", coordenadas1)\n",
    "print(\"Coordenadas de\", ciudades_por_codigo[arrival_station], \":\", coordenadas2)\n"
   ]
  },
  {
   "cell_type": "code",
   "execution_count": 14,
   "metadata": {},
   "outputs": [
    {
     "data": {
      "text/plain": [
       "([-117.019529, 32.5317397], [-95.3676974, 29.7589382])"
      ]
     },
     "execution_count": 14,
     "metadata": {},
     "output_type": "execute_result"
    }
   ],
   "source": [
    "ciudades_por_codigo = {\n",
    "    'AT': 'Ciudad de Mexico', # México\n",
    "    'BM': 'Tijuana',       # México\n",
    "    'AW': 'Monterrey',         # México\n",
    "    'BA': 'Merida',       # México\n",
    "    'AJ': 'Tuxtla Gutierrez', # México\n",
    "    'AO': 'Cancun',      # México\n",
    "    'AK': 'Guadalajara', # México\n",
    "    'BH': 'Saltillo',       # México\n",
    "    'AY': 'Colima',         # México\n",
    "    'BN': 'Victoria',       # México\n",
    "    'AF': 'Durango',        # México\n",
    "    'AU': 'Guanajuato',     # México\n",
    "    'AD': 'Chilpancingo',   # México\n",
    "    'BD': 'Pachuca',        # México\n",
    "    'AR': 'Guadalajara',    # México\n",
    "    'BJ': 'Toluca',         # México\n",
    "    'BC': 'Morelia',        # México\n",
    "    'BP': 'Cuernavaca',     # México\n",
    "    'BG': 'Tepic',          # México\n",
    "    'BL': 'Tel-Aviv',      # México\n",
    "    'BQ': 'Oaxaca',         # México\n",
    "    'AL': 'Puebla',         # México\n",
    "    'AB': 'Queretaro',      # México\n",
    "    'BF': 'Chetumal',       # México\n",
    "    'BO': 'San Luis Potosi', # México\n",
    "    'AP': 'Culiacan',       # México\n",
    "    'BT': 'Hermosillo',     # México\n",
    "    'BE': 'Villahermosa',   # México\n",
    "    'BB': 'Ciudad Victoria', # México\n",
    "    'AZ': 'Tlaxcala',       # México\n",
    "    'AI': 'Xalapa',         # México\n",
    "    'AQ': 'Mérida',         # México\n",
    "    'BS': 'Los Angeles',    # EE.UU.\n",
    "    'AX': 'New York',       # EE.UU.\n",
    "    'AE': 'Chicago',        # EE.UU.\n",
    "    'AV': 'Houston',        # EE.UU.\n",
    "    'AM': 'Phoenix',        # EE.UU.\n",
    "    'AS': 'Philadelphia',   # EE.UU.\n",
    "    'BK': 'San Antonio',    # EE.UU.\n",
    "    'BI': 'San Diego',      # EE.UU.\n",
    "    'AC': 'Dallas'          # EE.UU.\n",
    "}\n",
    "\n",
    "departure_station = \"BM\"\n",
    "arrival_station = \"AV\"\n",
    "\n",
    "def obtener_coordenadas(ciudad1, ciudad2):\n",
    "    geolocator = Nominatim(user_agent=\"elianrdz2002@gmail.com\")\n",
    "\n",
    "    def geocode(ciudad):\n",
    "        try:\n",
    "            location = geolocator.geocode(ciudad)\n",
    "            if location:\n",
    "                return [location.longitude, location.latitude]\n",
    "            else:\n",
    "                return [None, None]\n",
    "        except GeocoderTimedOut:\n",
    "            print(\"La solicitud ha excedido el tiempo límite, intentando nuevamente...\")\n",
    "            return geocode(ciudad)  # Intenta nuevamente en caso de timeout\n",
    "        except GeocoderServiceError as e:\n",
    "            print(f\"Error de servicio de geocodificación: {e}\")\n",
    "            return [None, None]\n",
    "\n",
    "    coord_ciudad1 = geocode(ciudad1)\n",
    "    coord_ciudad2 = geocode(ciudad2)\n",
    "\n",
    "    return coord_ciudad1, coord_ciudad2\n",
    "\n",
    "obtener_coordenadas(ciudades_por_codigo[departure_station], ciudades_por_codigo[arrival_station])"
   ]
  },
  {
   "cell_type": "code",
   "execution_count": null,
   "metadata": {},
   "outputs": [],
   "source": [
    "co"
   ]
  }
 ],
 "metadata": {
  "kernelspec": {
   "display_name": "datathon",
   "language": "python",
   "name": "python3"
  },
  "language_info": {
   "codemirror_mode": {
    "name": "ipython",
    "version": 3
   },
   "file_extension": ".py",
   "mimetype": "text/x-python",
   "name": "python",
   "nbconvert_exporter": "python",
   "pygments_lexer": "ipython3",
   "version": "3.11.7"
  }
 },
 "nbformat": 4,
 "nbformat_minor": 2
}
