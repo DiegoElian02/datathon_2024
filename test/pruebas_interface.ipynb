{
 "cells": [
  {
   "cell_type": "code",
   "execution_count": 9,
   "metadata": {},
   "outputs": [],
   "source": [
    "import streamlit as st\n",
    "import pandas as pd\n",
    "import numpy as np\n",
    "import pydeck as pdk\n",
    "from sklearn.ensemble import RandomForestRegressor\n",
    "from sklearn.multioutput import MultiOutputRegressor\n",
    "import pickle\n",
    "from geopy.geocoders import Nominatim\n",
    "from geopy.exc import GeocoderTimedOut\n",
    "from geopy.exc import GeocoderServiceError, GeocoderTimedOut\n"
   ]
  },
  {
   "cell_type": "code",
   "execution_count": 3,
   "metadata": {},
   "outputs": [],
   "source": [
    "# Función para realizar prediccion de pasajeros\n",
    "def predict_passangers(data):    #aqui va el pickle\n",
    "    return np.random.randint(100, 200)\n",
    "\n",
    "with open(r'../models/preprocessor.pkl', 'rb') as f:\n",
    "    preprocessor = pickle.load(f)\n",
    "\n",
    "with open(r'../models/model.pkl', 'rb') as f:\n",
    "    model = pickle.load(f)\n",
    "\n",
    "def predict_products(data):\n",
    "    data_df = pd.DataFrame([data], columns=['DepartureStation', 'ArrivalStation', 'Destination_Type', 'Origin_Type', 'Capacity', \"Passengers\", 'STD_hour', 'STA_hour', 'STD_day_of_week', 'STA_day_of_week'])\n",
    "    data_transformed = preprocessor.transform(data_df)\n",
    "    prediction = model.predict(data_transformed)\n",
    "    return prediction "
   ]
  },
  {
   "cell_type": "code",
   "execution_count": 3,
   "metadata": {},
   "outputs": [],
   "source": [
    "departure_station = \"BM\"\n",
    "arrival_station = \"AV\"\n"
   ]
  },
  {
   "cell_type": "code",
   "execution_count": 1,
   "metadata": {},
   "outputs": [],
   "source": [
    "ciudades_por_codigo = {\n",
    "    'AT': 'Ciudad de Mexico', # México\n",
    "    'BM': 'Tijuana',       # México\n",
    "    'AW': 'Monterrey',         # México\n",
    "    'BA': 'Merida',       # México\n",
    "    'AJ': 'Tuxtla Gutierrez', # México\n",
    "    'AO': 'Cancun',      # México\n",
    "    'AK': 'Guadalajara', # México\n",
    "    'BH': 'Saltillo',       # México\n",
    "    'AY': 'Colima',         # México\n",
    "    'BN': 'Victoria',       # México\n",
    "    'AF': 'Durango',        # México\n",
    "    'AU': 'Guanajuato',     # México\n",
    "    'AD': 'Chilpancingo',   # México\n",
    "    'BD': 'Pachuca',        # México\n",
    "    'AR': 'Guadalajara',    # México\n",
    "    'BJ': 'Toluca',         # México\n",
    "    'BC': 'Morelia',        # México\n",
    "    'BP': 'Cuernavaca',     # México\n",
    "    'BG': 'Tepic',          # México\n",
    "    'BL': 'Tel-Aviv',      # México\n",
    "    'BQ': 'Oaxaca',         # México\n",
    "    'AL': 'Puebla',         # México\n",
    "    'AB': 'Queretaro',      # México\n",
    "    'BF': 'Chetumal',       # México\n",
    "    'BO': 'San Luis Potosi', # México\n",
    "    'AP': 'Culiacan',       # México\n",
    "    'BT': 'Hermosillo',     # México\n",
    "    'BE': 'Villahermosa',   # México\n",
    "    'BB': 'Ciudad Victoria', # México\n",
    "    'AZ': 'Tlaxcala',       # México\n",
    "    'AI': 'Xalapa',         # México\n",
    "    'AQ': 'Mérida',         # México\n",
    "    'BS': 'Los Angeles',    # EE.UU.\n",
    "    'AX': 'New York',       # EE.UU.\n",
    "    'AE': 'Chicago',        # EE.UU.\n",
    "    'AV': 'Houston',        # EE.UU.\n",
    "    'AM': 'Phoenix',        # EE.UU.\n",
    "    'AS': 'Philadelphia',   # EE.UU.\n",
    "    'BK': 'San Antonio',    # EE.UU.\n",
    "    'BI': 'San Diego',      # EE.UU.\n",
    "    'AC': 'Dallas'          # EE.UU.\n",
    "}"
   ]
  },
  {
   "cell_type": "code",
   "execution_count": 3,
   "metadata": {},
   "outputs": [
    {
     "data": {
      "text/plain": [
       "['AT',\n",
       " 'BM',\n",
       " 'AW',\n",
       " 'BA',\n",
       " 'AJ',\n",
       " 'AO',\n",
       " 'AK',\n",
       " 'BH',\n",
       " 'AY',\n",
       " 'BN',\n",
       " 'AF',\n",
       " 'AU',\n",
       " 'AD',\n",
       " 'BD',\n",
       " 'AR',\n",
       " 'BJ',\n",
       " 'BC',\n",
       " 'BP',\n",
       " 'BG',\n",
       " 'BL',\n",
       " 'BQ',\n",
       " 'AL',\n",
       " 'AB',\n",
       " 'BF',\n",
       " 'BO',\n",
       " 'AP',\n",
       " 'BT',\n",
       " 'BE',\n",
       " 'BB',\n",
       " 'AZ',\n",
       " 'AI',\n",
       " 'AQ',\n",
       " 'BS',\n",
       " 'AX',\n",
       " 'AE',\n",
       " 'AV',\n",
       " 'AM',\n",
       " 'AS',\n",
       " 'BK',\n",
       " 'BI',\n",
       " 'AC']"
      ]
     },
     "execution_count": 3,
     "metadata": {},
     "output_type": "execute_result"
    }
   ],
   "source": [
    "list(ciudades_por_codigo.keys())"
   ]
  },
  {
   "cell_type": "code",
   "execution_count": 5,
   "metadata": {},
   "outputs": [
    {
     "data": {
      "text/plain": [
       "'Tijuana'"
      ]
     },
     "execution_count": 5,
     "metadata": {},
     "output_type": "execute_result"
    }
   ],
   "source": [
    "ciudades_por_codigo[departure_station]"
   ]
  },
  {
   "cell_type": "code",
   "execution_count": 6,
   "metadata": {},
   "outputs": [
    {
     "data": {
      "text/plain": [
       "'Houston'"
      ]
     },
     "execution_count": 6,
     "metadata": {},
     "output_type": "execute_result"
    }
   ],
   "source": [
    "ciudades_por_codigo[arrival_station]"
   ]
  },
  {
   "cell_type": "code",
   "execution_count": 11,
   "metadata": {},
   "outputs": [
    {
     "name": "stdout",
     "output_type": "stream",
     "text": [
      "Coordenadas de Tijuana : [-117.019529, 32.5317397]\n",
      "Coordenadas de Houston : [-95.3676974, 29.7589382]\n"
     ]
    }
   ],
   "source": [
    "from geopy.exc import GeocoderServiceError, GeocoderTimedOut\n",
    "\n",
    "def obtener_coordenadas(ciudad1, ciudad2):\n",
    "    geolocator = Nominatim(user_agent=\"NombreDeTuProyecto_Contacto@example.com\")\n",
    "\n",
    "    def geocode(ciudad):\n",
    "        try:\n",
    "            location = geolocator.geocode(ciudad)\n",
    "            if location:\n",
    "                return [location.longitude, location.latitude]\n",
    "            else:\n",
    "                return [None, None]\n",
    "        except GeocoderTimedOut:\n",
    "            print(\"La solicitud ha excedido el tiempo límite, intentando nuevamente...\")\n",
    "            return geocode(ciudad)  # Intenta nuevamente en caso de timeout\n",
    "        except GeocoderServiceError as e:\n",
    "            print(f\"Error de servicio de geocodificación: {e}\")\n",
    "            return [None, None]\n",
    "\n",
    "    coord_ciudad1 = geocode(ciudad1)\n",
    "    coord_ciudad2 = geocode(ciudad2)\n",
    "\n",
    "    return coord_ciudad1, coord_ciudad2\n",
    "\n",
    "coordenadas1, coordenadas2 = obtener_coordenadas(ciudades_por_codigo[departure_station], ciudades_por_codigo[arrival_station])\n",
    "print(\"Coordenadas de\", ciudades_por_codigo[departure_station], \":\", coordenadas1)\n",
    "print(\"Coordenadas de\", ciudades_por_codigo[arrival_station], \":\", coordenadas2)\n"
   ]
  },
  {
   "cell_type": "code",
   "execution_count": 14,
   "metadata": {},
   "outputs": [
    {
     "data": {
      "text/plain": [
       "([-117.019529, 32.5317397], [-95.3676974, 29.7589382])"
      ]
     },
     "execution_count": 14,
     "metadata": {},
     "output_type": "execute_result"
    }
   ],
   "source": [
    "ciudades_por_codigo = {\n",
    "    'AT': 'Ciudad de Mexico', # México\n",
    "    'BM': 'Tijuana',       # México\n",
    "    'AW': 'Monterrey',         # México\n",
    "    'BA': 'Merida',       # México\n",
    "    'AJ': 'Tuxtla Gutierrez', # México\n",
    "    'AO': 'Cancun',      # México\n",
    "    'AK': 'Guadalajara', # México\n",
    "    'BH': 'Saltillo',       # México\n",
    "    'AY': 'Colima',         # México\n",
    "    'BN': 'Victoria',       # México\n",
    "    'AF': 'Durango',        # México\n",
    "    'AU': 'Guanajuato',     # México\n",
    "    'AD': 'Chilpancingo',   # México\n",
    "    'BD': 'Pachuca',        # México\n",
    "    'AR': 'Guadalajara',    # México\n",
    "    'BJ': 'Toluca',         # México\n",
    "    'BC': 'Morelia',        # México\n",
    "    'BP': 'Cuernavaca',     # México\n",
    "    'BG': 'Tepic',          # México\n",
    "    'BL': 'Tel-Aviv',      # México\n",
    "    'BQ': 'Oaxaca',         # México\n",
    "    'AL': 'Puebla',         # México\n",
    "    'AB': 'Queretaro',      # México\n",
    "    'BF': 'Chetumal',       # México\n",
    "    'BO': 'San Luis Potosi', # México\n",
    "    'AP': 'Culiacan',       # México\n",
    "    'BT': 'Hermosillo',     # México\n",
    "    'BE': 'Villahermosa',   # México\n",
    "    'BB': 'Ciudad Victoria', # México\n",
    "    'AZ': 'Tlaxcala',       # México\n",
    "    'AI': 'Xalapa',         # México\n",
    "    'AQ': 'Mérida',         # México\n",
    "    'BS': 'Los Angeles',    # EE.UU.\n",
    "    'AX': 'New York',       # EE.UU.\n",
    "    'AE': 'Chicago',        # EE.UU.\n",
    "    'AV': 'Houston',        # EE.UU.\n",
    "    'AM': 'Phoenix',        # EE.UU.\n",
    "    'AS': 'Philadelphia',   # EE.UU.\n",
    "    'BK': 'San Antonio',    # EE.UU.\n",
    "    'BI': 'San Diego',      # EE.UU.\n",
    "    'AC': 'Dallas'          # EE.UU.\n",
    "}\n",
    "\n",
    "departure_station = \"BM\"\n",
    "arrival_station = \"AV\"\n",
    "\n",
    "def obtener_coordenadas(ciudad1, ciudad2):\n",
    "    geolocator = Nominatim(user_agent=\"elianrdz2002@gmail.com\")\n",
    "\n",
    "    def geocode(ciudad):\n",
    "        try:\n",
    "            location = geolocator.geocode(ciudad)\n",
    "            if location:\n",
    "                return [location.longitude, location.latitude]\n",
    "            else:\n",
    "                return [None, None]\n",
    "        except GeocoderTimedOut:\n",
    "            print(\"La solicitud ha excedido el tiempo límite, intentando nuevamente...\")\n",
    "            return geocode(ciudad)  # Intenta nuevamente en caso de timeout\n",
    "        except GeocoderServiceError as e:\n",
    "            print(f\"Error de servicio de geocodificación: {e}\")\n",
    "            return [None, None]\n",
    "\n",
    "    coord_ciudad1 = geocode(ciudad1)\n",
    "    coord_ciudad2 = geocode(ciudad2)\n",
    "\n",
    "    return coord_ciudad1, coord_ciudad2\n",
    "\n",
    "obtener_coordenadas(ciudades_por_codigo[departure_station], ciudades_por_codigo[arrival_station])"
   ]
  },
  {
   "cell_type": "code",
   "execution_count": 23,
   "metadata": {},
   "outputs": [
    {
     "name": "stdout",
     "output_type": "stream",
     "text": [
      "{'DepartureStation': 'AT', 'ArrivalStation': 'AZ', 'Destination_Type': 'Ciudad Fronteriza', 'Origin_Type': 'Ciudad Principal', 'Capacity': 240, 'STD_Month': 7, 'STD_Hour': 10, 'STA_Year': 2023, 'STA_Month': 8, 'STA_Day': 22, 'STA_Hour': 13, 'high_season': 1, 'Is_Weekend': 0}\n"
     ]
    }
   ],
   "source": [
    "\n",
    "import pandas as pd\n",
    "\n",
    "# Definición de la función is_high_season como se proporcionó\n",
    "def is_high_season(date):\n",
    "    year = date.year\n",
    "    if (pd.Timestamp(year=year, month=7, day=17) <= date <= pd.Timestamp(year=year, month=8, day=27)) or \\\n",
    "       (pd.Timestamp(year=year, month=11, day=18) <= date <= pd.Timestamp(year=year, month=11, day=20)) or \\\n",
    "       (pd.Timestamp(year=year, month=12, day=18) <= date <= pd.Timestamp(year=year+1, month=1, day=5)) or \\\n",
    "       (pd.Timestamp(year=year, month=2, day=3) <= date <= pd.Timestamp(year=year, month=2, day=5)) or \\\n",
    "       (pd.Timestamp(year=year, month=3, day=16) <= date <= pd.Timestamp(year=year, month=3, day=18)):\n",
    "        return 1\n",
    "    if year == 2024 and (pd.Timestamp(year=2024, month=3, day=25) <= date <= pd.Timestamp(year=2024, month=4, day=7)):\n",
    "        return 1\n",
    "    if year == 2023 and (pd.Timestamp(year=2023, month=4, day=1) <= date <= pd.Timestamp(year=2023, month=4, day=16)):\n",
    "        return 1\n",
    "    return 0\n",
    "\n",
    "# Función para preparar los datos de entrada\n",
    "def prepare_flight_data(input_data):\n",
    "    # Desempaquetar la entrada\n",
    "    (departure_station, arrival_station, destination_type, origin_type, capacity, \n",
    "     std_month, std_day, std_year, std_hour, sta_month, sta_day, sta_year, sta_hour) = input_data\n",
    "    \n",
    "    # Crear las fechas de STD y STA para usar en cálculos\n",
    "    std_date = pd.Timestamp(year=std_year, month=std_month, day=std_day)\n",
    "    sta_date = pd.Timestamp(year=sta_year, month=sta_month, day=sta_day)\n",
    "    \n",
    "    # Calcular si es temporada alta y si es fin de semana\n",
    "    high_season = is_high_season(std_date)\n",
    "    is_weekend = 1 if std_date.dayofweek >= 5 else 0\n",
    "    \n",
    "    # Preparar el diccionario de salida\n",
    "    output_data = {\n",
    "        'DepartureStation': departure_station,\n",
    "        'ArrivalStation': arrival_station,\n",
    "        'Destination_Type': destination_type,\n",
    "        'Origin_Type': origin_type,\n",
    "        'Capacity': capacity,\n",
    "        'STD_Month': std_month,\n",
    "        'STD_Hour': std_hour,\n",
    "        'STA_Year': sta_year,\n",
    "        'STA_Month': sta_month,\n",
    "        'STA_Day': sta_day,\n",
    "        'STA_Hour': sta_hour,\n",
    "        'high_season': high_season,\n",
    "        'Is_Weekend': is_weekend\n",
    "    }\n",
    "    return output_data\n",
    "\n",
    "# Ejemplo de uso\n",
    "input_data = ['AT', 'AZ', 'Ciudad Fronteriza', 'Ciudad Principal', 240, 7, 20, 2023, 10, 8, 22, 2023, 13]\n",
    "flight_data = prepare_flight_data(input_data)\n",
    "print(flight_data)"
   ]
  },
  {
   "cell_type": "code",
   "execution_count": 33,
   "metadata": {},
   "outputs": [],
   "source": [
    "import pickle\n",
    "with open(r'../models/pass_encoder.pkl', 'rb') as f:\n",
    "    pass_encoder = pickle.load(f)\n",
    "\n",
    "with open(r'../models/pass_model.pkl', 'rb') as f:\n",
    "    pass_model = pickle.load(f)"
   ]
  },
  {
   "cell_type": "code",
   "execution_count": 37,
   "metadata": {},
   "outputs": [],
   "source": [
    "def predict_passangers(data):    #aqui va el pickle\n",
    "    # columns = ['DepartureStatio', 'ArrivalStation', 'Destination_Type', 'Origin_Type', \n",
    "    #            'Capacity', \"STD_Month\", 'STD_Hour', \"STA_Year\", \"STA_Month\", \"STA_Day\", 'STA_Hour', \"high_season\", \"Is_Weekend\"]\n",
    "    input_df = pd.DataFrame(data, index=[0])\n",
    "    # Aplicar el codificador a los datos de entrada\n",
    "    input_encoded = pass_encoder.transform(input_df)\n",
    "    \n",
    "    # Hacer predicciones\n",
    "    predicted_passengers = pass_model.predict(input_encoded)\n",
    "    return predicted_passengers[0]"
   ]
  },
  {
   "cell_type": "code",
   "execution_count": 35,
   "metadata": {},
   "outputs": [],
   "source": [
    "input_data = ['AT', 'AZ', 'Ciudad Fronteriza', 'Ciudad Principal', 240, 7, 20, 2023, 10, 8, 22, 2023, 13]\n",
    "# flight_data = prepare_flight_data(input_data)"
   ]
  },
  {
   "cell_type": "code",
   "execution_count": 38,
   "metadata": {},
   "outputs": [
    {
     "name": "stderr",
     "output_type": "stream",
     "text": [
      "[Parallel(n_jobs=16)]: Using backend ThreadingBackend with 16 concurrent workers.\n",
      "[Parallel(n_jobs=16)]: Done   9 tasks      | elapsed:    0.0s\n",
      "[Parallel(n_jobs=16)]: Done 130 tasks      | elapsed:    0.0s\n",
      "[Parallel(n_jobs=16)]: Done 300 out of 300 | elapsed:    0.0s finished\n"
     ]
    }
   ],
   "source": [
    "process_for_pass_pred = prepare_flight_data(input_data)\n",
    "prediction_pa = predict_passangers(process_for_pass_pred)"
   ]
  },
  {
   "cell_type": "code",
   "execution_count": 26,
   "metadata": {},
   "outputs": [],
   "source": []
  },
  {
   "cell_type": "code",
   "execution_count": 29,
   "metadata": {},
   "outputs": [
    {
     "data": {
      "text/html": [
       "<div>\n",
       "<style scoped>\n",
       "    .dataframe tbody tr th:only-of-type {\n",
       "        vertical-align: middle;\n",
       "    }\n",
       "\n",
       "    .dataframe tbody tr th {\n",
       "        vertical-align: top;\n",
       "    }\n",
       "\n",
       "    .dataframe thead th {\n",
       "        text-align: right;\n",
       "    }\n",
       "</style>\n",
       "<table border=\"1\" class=\"dataframe\">\n",
       "  <thead>\n",
       "    <tr style=\"text-align: right;\">\n",
       "      <th></th>\n",
       "      <th>DepartureStation</th>\n",
       "      <th>ArrivalStation</th>\n",
       "      <th>Destination_Type</th>\n",
       "      <th>Origin_Type</th>\n",
       "      <th>Capacity</th>\n",
       "      <th>STD_Month</th>\n",
       "      <th>STD_Hour</th>\n",
       "      <th>STA_Year</th>\n",
       "      <th>STA_Month</th>\n",
       "      <th>STA_Day</th>\n",
       "      <th>STA_Hour</th>\n",
       "      <th>high_season</th>\n",
       "      <th>Is_Weekend</th>\n",
       "    </tr>\n",
       "  </thead>\n",
       "  <tbody>\n",
       "    <tr>\n",
       "      <th>0</th>\n",
       "      <td>202.556853</td>\n",
       "      <td>202.986207</td>\n",
       "      <td>191.826216</td>\n",
       "      <td>189.387665</td>\n",
       "      <td>240</td>\n",
       "      <td>7</td>\n",
       "      <td>10</td>\n",
       "      <td>2023</td>\n",
       "      <td>8</td>\n",
       "      <td>22</td>\n",
       "      <td>13</td>\n",
       "      <td>1</td>\n",
       "      <td>0</td>\n",
       "    </tr>\n",
       "  </tbody>\n",
       "</table>\n",
       "</div>"
      ],
      "text/plain": [
       "   DepartureStation  ArrivalStation  Destination_Type  Origin_Type  Capacity  \\\n",
       "0        202.556853      202.986207        191.826216   189.387665       240   \n",
       "\n",
       "   STD_Month  STD_Hour  STA_Year  STA_Month  STA_Day  STA_Hour  high_season  \\\n",
       "0          7        10      2023          8       22        13            1   \n",
       "\n",
       "   Is_Weekend  \n",
       "0           0  "
      ]
     },
     "execution_count": 29,
     "metadata": {},
     "output_type": "execute_result"
    }
   ],
   "source": [
    "pass_encoder.transform(pd.DataFrame(flight_data, index=[0]))"
   ]
  }
 ],
 "metadata": {
  "kernelspec": {
   "display_name": "datathon",
   "language": "python",
   "name": "python3"
  },
  "language_info": {
   "codemirror_mode": {
    "name": "ipython",
    "version": 3
   },
   "file_extension": ".py",
   "mimetype": "text/x-python",
   "name": "python",
   "nbconvert_exporter": "python",
   "pygments_lexer": "ipython3",
   "version": "3.11.7"
  }
 },
 "nbformat": 4,
 "nbformat_minor": 2
}
